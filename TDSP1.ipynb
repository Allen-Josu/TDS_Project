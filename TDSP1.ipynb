{
 "cells": [
  {
   "cell_type": "code",
   "execution_count": 2,
   "id": "17871c8c-d5b7-4881-8fb2-c3f084deec73",
   "metadata": {},
   "outputs": [],
   "source": [
    "import pandas as pd\n",
    "import numpy as np\n",
    "import matplotlib.pyplot as plt"
   ]
  },
  {
   "cell_type": "markdown",
   "id": "7108a27f-97e8-4871-ae8d-c4c53a47dfe9",
   "metadata": {},
   "source": [
    "#### 1. Who are the top 5 users in Sydney with the highest number of followers? List their login in order, comma-separated."
   ]
  },
  {
   "cell_type": "code",
   "execution_count": 3,
   "id": "4259def7-3934-411b-b441-64d7d24bd92c",
   "metadata": {},
   "outputs": [
    {
     "data": {
      "text/html": [
       "<div>\n",
       "<style scoped>\n",
       "    .dataframe tbody tr th:only-of-type {\n",
       "        vertical-align: middle;\n",
       "    }\n",
       "\n",
       "    .dataframe tbody tr th {\n",
       "        vertical-align: top;\n",
       "    }\n",
       "\n",
       "    .dataframe thead th {\n",
       "        text-align: right;\n",
       "    }\n",
       "</style>\n",
       "<table border=\"1\" class=\"dataframe\">\n",
       "  <thead>\n",
       "    <tr style=\"text-align: right;\">\n",
       "      <th></th>\n",
       "      <th>login</th>\n",
       "      <th>name</th>\n",
       "      <th>company</th>\n",
       "      <th>location</th>\n",
       "      <th>email</th>\n",
       "      <th>hireable</th>\n",
       "      <th>bio</th>\n",
       "      <th>public_repos</th>\n",
       "      <th>followers</th>\n",
       "      <th>following</th>\n",
       "      <th>created_at</th>\n",
       "    </tr>\n",
       "  </thead>\n",
       "  <tbody>\n",
       "    <tr>\n",
       "      <th>0</th>\n",
       "      <td>nicknochnack</td>\n",
       "      <td>Nicholas Renotte</td>\n",
       "      <td>NaN</td>\n",
       "      <td>Sydney, Australia</td>\n",
       "      <td>NaN</td>\n",
       "      <td>NaN</td>\n",
       "      <td>Data Science guy @IBM</td>\n",
       "      <td>193</td>\n",
       "      <td>11683</td>\n",
       "      <td>5</td>\n",
       "      <td>2013-11-15T15:06:35Z</td>\n",
       "    </tr>\n",
       "    <tr>\n",
       "      <th>1</th>\n",
       "      <td>brendangregg</td>\n",
       "      <td>Brendan Gregg</td>\n",
       "      <td>INTEL</td>\n",
       "      <td>Sydney, Australia</td>\n",
       "      <td>NaN</td>\n",
       "      <td>NaN</td>\n",
       "      <td>Cloud computing performance engineer.</td>\n",
       "      <td>42</td>\n",
       "      <td>8022</td>\n",
       "      <td>0</td>\n",
       "      <td>2011-10-04T08:48:56Z</td>\n",
       "    </tr>\n",
       "    <tr>\n",
       "      <th>2</th>\n",
       "      <td>cornflourblue</td>\n",
       "      <td>Jason Watmore</td>\n",
       "      <td>POINT BLANK DEVELOPMENT</td>\n",
       "      <td>Sydney Australia</td>\n",
       "      <td>NaN</td>\n",
       "      <td>NaN</td>\n",
       "      <td>Web Developer and Blogger, currently focusing ...</td>\n",
       "      <td>187</td>\n",
       "      <td>6701</td>\n",
       "      <td>0</td>\n",
       "      <td>2011-05-13T04:38:16Z</td>\n",
       "    </tr>\n",
       "    <tr>\n",
       "      <th>3</th>\n",
       "      <td>0vm</td>\n",
       "      <td>Ak</td>\n",
       "      <td>NaN</td>\n",
       "      <td>Sydney, Australia</td>\n",
       "      <td>NaN</td>\n",
       "      <td>True</td>\n",
       "      <td>erm hai</td>\n",
       "      <td>10</td>\n",
       "      <td>6567</td>\n",
       "      <td>3</td>\n",
       "      <td>2021-03-02T06:55:10Z</td>\n",
       "    </tr>\n",
       "    <tr>\n",
       "      <th>4</th>\n",
       "      <td>davecheney</td>\n",
       "      <td>Dave Cheney</td>\n",
       "      <td>GITHUB</td>\n",
       "      <td>Sydney, Australia</td>\n",
       "      <td>NaN</td>\n",
       "      <td>NaN</td>\n",
       "      <td>I service society by rocking.</td>\n",
       "      <td>163</td>\n",
       "      <td>6557</td>\n",
       "      <td>42</td>\n",
       "      <td>2008-04-14T04:00:20Z</td>\n",
       "    </tr>\n",
       "    <tr>\n",
       "      <th>5</th>\n",
       "      <td>JedWatson</td>\n",
       "      <td>Jed Watson</td>\n",
       "      <td>THINKMILL</td>\n",
       "      <td>Sydney</td>\n",
       "      <td>NaN</td>\n",
       "      <td>NaN</td>\n",
       "      <td>NaN</td>\n",
       "      <td>100</td>\n",
       "      <td>4626</td>\n",
       "      <td>25</td>\n",
       "      <td>2011-06-24T02:12:21Z</td>\n",
       "    </tr>\n",
       "    <tr>\n",
       "      <th>6</th>\n",
       "      <td>dragen1860</td>\n",
       "      <td>Jackie Loong</td>\n",
       "      <td>NaN</td>\n",
       "      <td>Sydney</td>\n",
       "      <td>NaN</td>\n",
       "      <td>True</td>\n",
       "      <td>Make machines behave like me.\\r\\n\\r\\nliangqu.l...</td>\n",
       "      <td>74</td>\n",
       "      <td>3062</td>\n",
       "      <td>22</td>\n",
       "      <td>2013-04-25T06:18:41Z</td>\n",
       "    </tr>\n",
       "    <tr>\n",
       "      <th>7</th>\n",
       "      <td>thombergs</td>\n",
       "      <td>Tom Hombergs</td>\n",
       "      <td>ATLASSIAN</td>\n",
       "      <td>Sydney</td>\n",
       "      <td>tom.hombergs@gmail.com</td>\n",
       "      <td>NaN</td>\n",
       "      <td>Software Developer and Open Source Enthusiast ...</td>\n",
       "      <td>111</td>\n",
       "      <td>2501</td>\n",
       "      <td>31</td>\n",
       "      <td>2012-01-21T15:18:16Z</td>\n",
       "    </tr>\n",
       "    <tr>\n",
       "      <th>8</th>\n",
       "      <td>DmitryBaranovskiy</td>\n",
       "      <td>Dmitry Baranovskiy</td>\n",
       "      <td>ADOBE</td>\n",
       "      <td>Sydney, Australia</td>\n",
       "      <td>dmitry@baranovskiy.com</td>\n",
       "      <td>NaN</td>\n",
       "      <td>JavaScript Artist</td>\n",
       "      <td>14</td>\n",
       "      <td>2477</td>\n",
       "      <td>15</td>\n",
       "      <td>2008-09-01T07:35:49Z</td>\n",
       "    </tr>\n",
       "    <tr>\n",
       "      <th>9</th>\n",
       "      <td>redguardtoo</td>\n",
       "      <td>Chen Bin</td>\n",
       "      <td>WORKING</td>\n",
       "      <td>Sydney</td>\n",
       "      <td>NaN</td>\n",
       "      <td>True</td>\n",
       "      <td>C developer in China, Javascript developer in ...</td>\n",
       "      <td>69</td>\n",
       "      <td>2238</td>\n",
       "      <td>125</td>\n",
       "      <td>2010-01-18T11:33:08Z</td>\n",
       "    </tr>\n",
       "  </tbody>\n",
       "</table>\n",
       "</div>"
      ],
      "text/plain": [
       "               login                name                  company  \\\n",
       "0       nicknochnack    Nicholas Renotte                      NaN   \n",
       "1       brendangregg       Brendan Gregg                    INTEL   \n",
       "2      cornflourblue       Jason Watmore  POINT BLANK DEVELOPMENT   \n",
       "3                0vm                  Ak                      NaN   \n",
       "4         davecheney         Dave Cheney                   GITHUB   \n",
       "5          JedWatson          Jed Watson                THINKMILL   \n",
       "6         dragen1860        Jackie Loong                      NaN   \n",
       "7          thombergs        Tom Hombergs                ATLASSIAN   \n",
       "8  DmitryBaranovskiy  Dmitry Baranovskiy                    ADOBE   \n",
       "9        redguardtoo            Chen Bin                  WORKING   \n",
       "\n",
       "            location                   email hireable  \\\n",
       "0  Sydney, Australia                     NaN      NaN   \n",
       "1  Sydney, Australia                     NaN      NaN   \n",
       "2   Sydney Australia                     NaN      NaN   \n",
       "3  Sydney, Australia                     NaN     True   \n",
       "4  Sydney, Australia                     NaN      NaN   \n",
       "5             Sydney                     NaN      NaN   \n",
       "6             Sydney                     NaN     True   \n",
       "7             Sydney  tom.hombergs@gmail.com      NaN   \n",
       "8  Sydney, Australia  dmitry@baranovskiy.com      NaN   \n",
       "9             Sydney                     NaN     True   \n",
       "\n",
       "                                                 bio  public_repos  followers  \\\n",
       "0                              Data Science guy @IBM           193      11683   \n",
       "1              Cloud computing performance engineer.            42       8022   \n",
       "2  Web Developer and Blogger, currently focusing ...           187       6701   \n",
       "3                                            erm hai            10       6567   \n",
       "4                      I service society by rocking.           163       6557   \n",
       "5                                                NaN           100       4626   \n",
       "6  Make machines behave like me.\\r\\n\\r\\nliangqu.l...            74       3062   \n",
       "7  Software Developer and Open Source Enthusiast ...           111       2501   \n",
       "8                                  JavaScript Artist            14       2477   \n",
       "9  C developer in China, Javascript developer in ...            69       2238   \n",
       "\n",
       "   following            created_at  \n",
       "0          5  2013-11-15T15:06:35Z  \n",
       "1          0  2011-10-04T08:48:56Z  \n",
       "2          0  2011-05-13T04:38:16Z  \n",
       "3          3  2021-03-02T06:55:10Z  \n",
       "4         42  2008-04-14T04:00:20Z  \n",
       "5         25  2011-06-24T02:12:21Z  \n",
       "6         22  2013-04-25T06:18:41Z  \n",
       "7         31  2012-01-21T15:18:16Z  \n",
       "8         15  2008-09-01T07:35:49Z  \n",
       "9        125  2010-01-18T11:33:08Z  "
      ]
     },
     "execution_count": 3,
     "metadata": {},
     "output_type": "execute_result"
    }
   ],
   "source": [
    "users = pd.read_csv('users.csv')\n",
    "users.head(10)"
   ]
  },
  {
   "cell_type": "code",
   "execution_count": 4,
   "id": "f37b7348-3978-4355-948f-8b87845756c0",
   "metadata": {},
   "outputs": [
    {
     "name": "stderr",
     "output_type": "stream",
     "text": [
      "C:\\Users\\ajj\\AppData\\Local\\Temp\\ipykernel_5840\\1926759118.py:1: FutureWarning: Downcasting object dtype arrays on .fillna, .ffill, .bfill is deprecated and will change in a future version. Call result.infer_objects(copy=False) instead. To opt-in to the future behavior, set `pd.set_option('future.no_silent_downcasting', True)`\n",
      "  users['hireable'] = users['hireable'].fillna(False).astype(bool)\n"
     ]
    }
   ],
   "source": [
    "users['hireable'] = users['hireable'].fillna(False).astype(bool)"
   ]
  },
  {
   "cell_type": "code",
   "execution_count": 5,
   "id": "a14993f9-48d3-4956-9cca-d4349c30f649",
   "metadata": {},
   "outputs": [
    {
     "name": "stdout",
     "output_type": "stream",
     "text": [
      "nicknochnack,brendangregg,cornflourblue,0vm,davecheney\n"
     ]
    }
   ],
   "source": [
    "top5 = users.sort_values(by='followers', ascending=False).head()\n",
    "print(','.join(top5['login'].tolist()))"
   ]
  },
  {
   "cell_type": "markdown",
   "id": "6cc86ddb-88c3-453c-bf56-29614358b62e",
   "metadata": {},
   "source": [
    "#### 2. Who are the 5 earliest registered GitHub users in Sydney? List their login in ascending order of created_at, comma-separated."
   ]
  },
  {
   "cell_type": "code",
   "execution_count": 6,
   "id": "afe79990-ccd3-4c8d-b184-45de1f19097c",
   "metadata": {},
   "outputs": [],
   "source": [
    "users['created_at'] = pd.to_datetime(users['created_at'])"
   ]
  },
  {
   "cell_type": "code",
   "execution_count": 7,
   "id": "f9645405-1745-4f06-9ba8-681b5c1e51b0",
   "metadata": {},
   "outputs": [
    {
     "name": "stdout",
     "output_type": "stream",
     "text": [
      "dylanegan,cjheath,freshtonic,dhowden,mikel\n"
     ]
    }
   ],
   "source": [
    "top_earliest = users.sort_values(by='created_at').head()\n",
    "print(','.join(top_earliest['login'].tolist()))"
   ]
  },
  {
   "cell_type": "markdown",
   "id": "1675cbcf-6a8b-4af8-b24a-1372f68efd6b",
   "metadata": {},
   "source": [
    "#### 3. What are the 3 most popular license among these users? Ignore missing licenses. List the license_name in order, comma-separated."
   ]
  },
  {
   "cell_type": "code",
   "execution_count": 8,
   "id": "a139a9a8-9ded-4175-b023-fe871850f3a4",
   "metadata": {},
   "outputs": [
    {
     "data": {
      "text/html": [
       "<div>\n",
       "<style scoped>\n",
       "    .dataframe tbody tr th:only-of-type {\n",
       "        vertical-align: middle;\n",
       "    }\n",
       "\n",
       "    .dataframe tbody tr th {\n",
       "        vertical-align: top;\n",
       "    }\n",
       "\n",
       "    .dataframe thead th {\n",
       "        text-align: right;\n",
       "    }\n",
       "</style>\n",
       "<table border=\"1\" class=\"dataframe\">\n",
       "  <thead>\n",
       "    <tr style=\"text-align: right;\">\n",
       "      <th></th>\n",
       "      <th>login</th>\n",
       "      <th>full_name</th>\n",
       "      <th>created_at</th>\n",
       "      <th>stargazers_count</th>\n",
       "      <th>watchers_count</th>\n",
       "      <th>language</th>\n",
       "      <th>has_projects</th>\n",
       "      <th>has_wiki</th>\n",
       "      <th>license_name</th>\n",
       "    </tr>\n",
       "  </thead>\n",
       "  <tbody>\n",
       "    <tr>\n",
       "      <th>0</th>\n",
       "      <td>nicknochnack</td>\n",
       "      <td>nicknochnack/ActionDetectionforSignLanguage</td>\n",
       "      <td>2021-06-16T09:12:01Z</td>\n",
       "      <td>408</td>\n",
       "      <td>408</td>\n",
       "      <td>Jupyter Notebook</td>\n",
       "      <td>True</td>\n",
       "      <td>True</td>\n",
       "      <td>NaN</td>\n",
       "    </tr>\n",
       "    <tr>\n",
       "      <th>1</th>\n",
       "      <td>nicknochnack</td>\n",
       "      <td>nicknochnack/AdvancedHandPoseWithMediaPipe</td>\n",
       "      <td>2021-04-25T00:13:57Z</td>\n",
       "      <td>37</td>\n",
       "      <td>37</td>\n",
       "      <td>Jupyter Notebook</td>\n",
       "      <td>True</td>\n",
       "      <td>True</td>\n",
       "      <td>NaN</td>\n",
       "    </tr>\n",
       "    <tr>\n",
       "      <th>2</th>\n",
       "      <td>nicknochnack</td>\n",
       "      <td>nicknochnack/ANPRwithPython</td>\n",
       "      <td>2020-12-13T04:39:49Z</td>\n",
       "      <td>106</td>\n",
       "      <td>106</td>\n",
       "      <td>Jupyter Notebook</td>\n",
       "      <td>True</td>\n",
       "      <td>True</td>\n",
       "      <td>NaN</td>\n",
       "    </tr>\n",
       "    <tr>\n",
       "      <th>3</th>\n",
       "      <td>nicknochnack</td>\n",
       "      <td>nicknochnack/AutoStreamlit</td>\n",
       "      <td>2022-10-25T21:25:41Z</td>\n",
       "      <td>72</td>\n",
       "      <td>72</td>\n",
       "      <td>Jupyter Notebook</td>\n",
       "      <td>True</td>\n",
       "      <td>True</td>\n",
       "      <td>NaN</td>\n",
       "    </tr>\n",
       "    <tr>\n",
       "      <th>4</th>\n",
       "      <td>nicknochnack</td>\n",
       "      <td>nicknochnack/beeagent</td>\n",
       "      <td>2024-09-19T08:05:08Z</td>\n",
       "      <td>8</td>\n",
       "      <td>8</td>\n",
       "      <td>TypeScript</td>\n",
       "      <td>True</td>\n",
       "      <td>True</td>\n",
       "      <td>NaN</td>\n",
       "    </tr>\n",
       "  </tbody>\n",
       "</table>\n",
       "</div>"
      ],
      "text/plain": [
       "          login                                    full_name  \\\n",
       "0  nicknochnack  nicknochnack/ActionDetectionforSignLanguage   \n",
       "1  nicknochnack   nicknochnack/AdvancedHandPoseWithMediaPipe   \n",
       "2  nicknochnack                  nicknochnack/ANPRwithPython   \n",
       "3  nicknochnack                   nicknochnack/AutoStreamlit   \n",
       "4  nicknochnack                        nicknochnack/beeagent   \n",
       "\n",
       "             created_at  stargazers_count  watchers_count          language  \\\n",
       "0  2021-06-16T09:12:01Z               408             408  Jupyter Notebook   \n",
       "1  2021-04-25T00:13:57Z                37              37  Jupyter Notebook   \n",
       "2  2020-12-13T04:39:49Z               106             106  Jupyter Notebook   \n",
       "3  2022-10-25T21:25:41Z                72              72  Jupyter Notebook   \n",
       "4  2024-09-19T08:05:08Z                 8               8        TypeScript   \n",
       "\n",
       "   has_projects  has_wiki license_name  \n",
       "0          True      True          NaN  \n",
       "1          True      True          NaN  \n",
       "2          True      True          NaN  \n",
       "3          True      True          NaN  \n",
       "4          True      True          NaN  "
      ]
     },
     "execution_count": 8,
     "metadata": {},
     "output_type": "execute_result"
    }
   ],
   "source": [
    "repos = pd.read_csv('repositories.csv')\n",
    "repos.head()"
   ]
  },
  {
   "cell_type": "code",
   "execution_count": 9,
   "id": "f5b0a4ce-ae41-4066-a59a-58e81f27ad47",
   "metadata": {},
   "outputs": [
    {
     "data": {
      "text/plain": [
       "license_name\n",
       "mit           5961\n",
       "other         1780\n",
       "apache-2.0    1733\n",
       "Name: count, dtype: int64"
      ]
     },
     "execution_count": 9,
     "metadata": {},
     "output_type": "execute_result"
    }
   ],
   "source": [
    "repos['license_name'].value_counts().head(3)"
   ]
  },
  {
   "cell_type": "markdown",
   "id": "662f1894-2c60-429c-b06d-cbe36afe6f08",
   "metadata": {},
   "source": [
    "#### Q4. Which company do the majority of these developers work at?"
   ]
  },
  {
   "cell_type": "code",
   "execution_count": 10,
   "id": "93a985b2-4e56-4871-9757-23e6ae5ed0de",
   "metadata": {},
   "outputs": [
    {
     "data": {
      "text/plain": [
       "company\n",
       "ATLASSIAN    19\n",
       "Name: count, dtype: int64"
      ]
     },
     "execution_count": 10,
     "metadata": {},
     "output_type": "execute_result"
    }
   ],
   "source": [
    "users['company'].value_counts().head(1)"
   ]
  },
  {
   "cell_type": "markdown",
   "id": "3e73104c-f44c-4e59-aecc-cb10a34578a1",
   "metadata": {},
   "source": [
    "#### Q5. Which programming language is most popular among these users?"
   ]
  },
  {
   "cell_type": "code",
   "execution_count": 11,
   "id": "1abcf548-42aa-43fc-837e-86c6db860617",
   "metadata": {},
   "outputs": [
    {
     "data": {
      "text/plain": [
       "language\n",
       "JavaScript    3828\n",
       "Name: count, dtype: int64"
      ]
     },
     "execution_count": 11,
     "metadata": {},
     "output_type": "execute_result"
    }
   ],
   "source": [
    "repos['language'].value_counts().head(1)"
   ]
  },
  {
   "cell_type": "markdown",
   "id": "bf7abc13-3226-4c35-b42e-400f06cac01d",
   "metadata": {},
   "source": [
    "#### Q6. Which programming language is the second most popular among users who joined after 2020?"
   ]
  },
  {
   "cell_type": "code",
   "execution_count": 12,
   "id": "d01727ac-d1de-4407-a65b-db7a88223d81",
   "metadata": {},
   "outputs": [
    {
     "data": {
      "text/html": [
       "<div>\n",
       "<style scoped>\n",
       "    .dataframe tbody tr th:only-of-type {\n",
       "        vertical-align: middle;\n",
       "    }\n",
       "\n",
       "    .dataframe tbody tr th {\n",
       "        vertical-align: top;\n",
       "    }\n",
       "\n",
       "    .dataframe thead th {\n",
       "        text-align: right;\n",
       "    }\n",
       "</style>\n",
       "<table border=\"1\" class=\"dataframe\">\n",
       "  <thead>\n",
       "    <tr style=\"text-align: right;\">\n",
       "      <th></th>\n",
       "      <th>login</th>\n",
       "      <th>name</th>\n",
       "      <th>company</th>\n",
       "      <th>location</th>\n",
       "      <th>email</th>\n",
       "      <th>hireable</th>\n",
       "      <th>bio</th>\n",
       "      <th>public_repos</th>\n",
       "      <th>followers</th>\n",
       "      <th>following</th>\n",
       "      <th>created_at</th>\n",
       "    </tr>\n",
       "  </thead>\n",
       "  <tbody>\n",
       "    <tr>\n",
       "      <th>3</th>\n",
       "      <td>0vm</td>\n",
       "      <td>Ak</td>\n",
       "      <td>NaN</td>\n",
       "      <td>Sydney, Australia</td>\n",
       "      <td>NaN</td>\n",
       "      <td>True</td>\n",
       "      <td>erm hai</td>\n",
       "      <td>10</td>\n",
       "      <td>6567</td>\n",
       "      <td>3</td>\n",
       "      <td>2021-03-02 06:55:10+00:00</td>\n",
       "    </tr>\n",
       "    <tr>\n",
       "      <th>36</th>\n",
       "      <td>ndleah</td>\n",
       "      <td>Leah Nguyen</td>\n",
       "      <td>NaN</td>\n",
       "      <td>Sydney NSW, Australia</td>\n",
       "      <td>nduongthucanh@gmail.com</td>\n",
       "      <td>True</td>\n",
       "      <td>Data Engineer 👩‍💻 ◦ Stackoverflow Researcher 🔥</td>\n",
       "      <td>40</td>\n",
       "      <td>807</td>\n",
       "      <td>34</td>\n",
       "      <td>2021-04-25 12:35:33+00:00</td>\n",
       "    </tr>\n",
       "    <tr>\n",
       "      <th>49</th>\n",
       "      <td>pixegami</td>\n",
       "      <td>Pixegami</td>\n",
       "      <td>NaN</td>\n",
       "      <td>Sydney, Australia</td>\n",
       "      <td>NaN</td>\n",
       "      <td>False</td>\n",
       "      <td>I make tech projects and tutorials 🛠️ Tech Sta...</td>\n",
       "      <td>58</td>\n",
       "      <td>585</td>\n",
       "      <td>0</td>\n",
       "      <td>2020-12-02 08:36:14+00:00</td>\n",
       "    </tr>\n",
       "    <tr>\n",
       "      <th>70</th>\n",
       "      <td>andrekolodochka</td>\n",
       "      <td>Andre Kolodochka</td>\n",
       "      <td>GITHUB</td>\n",
       "      <td>Sydney, Australia</td>\n",
       "      <td>NaN</td>\n",
       "      <td>False</td>\n",
       "      <td>NaN</td>\n",
       "      <td>29</td>\n",
       "      <td>456</td>\n",
       "      <td>0</td>\n",
       "      <td>2020-01-07 21:06:38+00:00</td>\n",
       "    </tr>\n",
       "    <tr>\n",
       "      <th>118</th>\n",
       "      <td>pentestfunctions</td>\n",
       "      <td>Opabinia</td>\n",
       "      <td>COO @ HACKNEXUS</td>\n",
       "      <td>Sydney, Australia</td>\n",
       "      <td>NaN</td>\n",
       "      <td>False</td>\n",
       "      <td>Just another github for crummy idea testing/pr...</td>\n",
       "      <td>155</td>\n",
       "      <td>282</td>\n",
       "      <td>41</td>\n",
       "      <td>2023-09-04 07:48:43+00:00</td>\n",
       "    </tr>\n",
       "  </tbody>\n",
       "</table>\n",
       "</div>"
      ],
      "text/plain": [
       "                login              name          company  \\\n",
       "3                 0vm                Ak              NaN   \n",
       "36             ndleah       Leah Nguyen              NaN   \n",
       "49           pixegami          Pixegami              NaN   \n",
       "70    andrekolodochka  Andre Kolodochka           GITHUB   \n",
       "118  pentestfunctions          Opabinia  COO @ HACKNEXUS   \n",
       "\n",
       "                  location                    email  hireable  \\\n",
       "3        Sydney, Australia                      NaN      True   \n",
       "36   Sydney NSW, Australia  nduongthucanh@gmail.com      True   \n",
       "49       Sydney, Australia                      NaN     False   \n",
       "70       Sydney, Australia                      NaN     False   \n",
       "118      Sydney, Australia                      NaN     False   \n",
       "\n",
       "                                                   bio  public_repos  \\\n",
       "3                                              erm hai            10   \n",
       "36      Data Engineer 👩‍💻 ◦ Stackoverflow Researcher 🔥            40   \n",
       "49   I make tech projects and tutorials 🛠️ Tech Sta...            58   \n",
       "70                                                 NaN            29   \n",
       "118  Just another github for crummy idea testing/pr...           155   \n",
       "\n",
       "     followers  following                created_at  \n",
       "3         6567          3 2021-03-02 06:55:10+00:00  \n",
       "36         807         34 2021-04-25 12:35:33+00:00  \n",
       "49         585          0 2020-12-02 08:36:14+00:00  \n",
       "70         456          0 2020-01-07 21:06:38+00:00  \n",
       "118        282         41 2023-09-04 07:48:43+00:00  "
      ]
     },
     "execution_count": 12,
     "metadata": {},
     "output_type": "execute_result"
    }
   ],
   "source": [
    "users_after_2020 = users[users['created_at'] > '2020-01-01']\n",
    "users_after_2020.head()"
   ]
  },
  {
   "cell_type": "code",
   "execution_count": 13,
   "id": "aee537b6-38c7-4aa5-baae-c398fe385053",
   "metadata": {},
   "outputs": [
    {
     "data": {
      "text/plain": [
       "language\n",
       "Python        96\n",
       "TypeScript    22\n",
       "HTML          14\n",
       "JavaScript    13\n",
       "Shell         13\n",
       "Name: count, dtype: int64"
      ]
     },
     "execution_count": 13,
     "metadata": {},
     "output_type": "execute_result"
    }
   ],
   "source": [
    "repos_2020 = repos[repos['login'].isin(users_after_2020['login'].tolist())]\n",
    "repos_2020['language'].value_counts().head()"
   ]
  },
  {
   "cell_type": "markdown",
   "id": "d0b07a2f-bcae-496b-ab7e-188a2f0aa7be",
   "metadata": {},
   "source": [
    "#### Q7. Which language has the highest average number of stars per repository? "
   ]
  },
  {
   "cell_type": "code",
   "execution_count": 14,
   "id": "8c8a119a-e562-4855-8330-23b6dccdfea9",
   "metadata": {},
   "outputs": [
    {
     "name": "stdout",
     "output_type": "stream",
     "text": [
      "Mermaid 503.0\n"
     ]
    }
   ],
   "source": [
    "avg_stars = repos.groupby('language')['stargazers_count'].mean()\n",
    "top_lang = avg_stars.idxmax()\n",
    "top_stars = avg_stars.max()\n",
    "print(top_lang, top_stars)"
   ]
  },
  {
   "cell_type": "markdown",
   "id": "e430846a-1518-409f-8717-cb2f84570460",
   "metadata": {},
   "source": [
    "#### 8. Let's define leader_strength as followers / (1 + following). Who are the top 5 in terms of leader_strength? List their login in order, comma-separated."
   ]
  },
  {
   "cell_type": "code",
   "execution_count": 15,
   "id": "aa51b046-149f-4ef5-89ff-62586043992c",
   "metadata": {},
   "outputs": [
    {
     "name": "stdout",
     "output_type": "stream",
     "text": [
      "brendangregg,cornflourblue,Canva,nicknochnack,0vm\n"
     ]
    }
   ],
   "source": [
    "users['leader_strength'] = users['followers'] / (1 + users['following'])\n",
    "top5_lead = users.sort_values(by='leader_strength', ascending=False).head()\n",
    "print(','.join(top5_lead['login'].tolist()))"
   ]
  },
  {
   "cell_type": "markdown",
   "id": "8dd87be3-3a61-4fe1-ab5c-1ef836c545d3",
   "metadata": {},
   "source": [
    "#### Q9. What is the correlation between the number of followers and the number of public repositories among users in Sydney?"
   ]
  },
  {
   "cell_type": "code",
   "execution_count": 16,
   "id": "91e8b274-bde5-41ac-91d2-d965334f2d35",
   "metadata": {},
   "outputs": [
    {
     "data": {
      "text/plain": [
       "np.float64(0.03517696915942997)"
      ]
     },
     "execution_count": 16,
     "metadata": {},
     "output_type": "execute_result"
    }
   ],
   "source": [
    "correlation = users['followers'].corr(users['public_repos'])\n",
    "correlation"
   ]
  },
  {
   "cell_type": "markdown",
   "id": "23dac608-8b88-48d8-aeae-1e11b2cb2b87",
   "metadata": {},
   "source": [
    "#### Q10. Does creating more repos help users get more followers? Using regression, estimate how many additional followers a user gets per additional public repository."
   ]
  },
  {
   "cell_type": "code",
   "execution_count": 17,
   "id": "9eede565-f813-4807-989b-051201f7f411",
   "metadata": {},
   "outputs": [
    {
     "name": "stdout",
     "output_type": "stream",
     "text": [
      "0.068\n"
     ]
    }
   ],
   "source": [
    "import csv\n",
    "followers = []\n",
    "public_repos = []\n",
    "with open('users.csv', 'r', encoding='utf-8') as file:\n",
    "    reader = csv.DictReader(file)\n",
    "    for row in reader:\n",
    "        followers_count = int(row['followers'])\n",
    "        public_repos_count = int(row['public_repos'])\n",
    "        followers.append(followers_count)\n",
    "        public_repos.append(public_repos_count)\n",
    "if len(followers) > 1 and len(public_repos) > 1:\n",
    "    slope, intercept = np.polyfit(public_repos, followers, 1)\n",
    "    \n",
    "    print(f\"{slope:.3f}\")\n",
    "else:\n",
    "    print(\"Error\")"
   ]
  },
  {
   "cell_type": "markdown",
   "id": "b1739602-5cef-48d6-a3ef-3ecc1d12f405",
   "metadata": {},
   "source": [
    "#### 11. Do people typically enable projects and wikis together? What is the correlation between a repo having projects enabled and having wiki enabled?"
   ]
  },
  {
   "cell_type": "code",
   "execution_count": 24,
   "id": "dbb4e3f4",
   "metadata": {},
   "outputs": [
    {
     "data": {
      "text/html": [
       "<div>\n",
       "<style scoped>\n",
       "    .dataframe tbody tr th:only-of-type {\n",
       "        vertical-align: middle;\n",
       "    }\n",
       "\n",
       "    .dataframe tbody tr th {\n",
       "        vertical-align: top;\n",
       "    }\n",
       "\n",
       "    .dataframe thead th {\n",
       "        text-align: right;\n",
       "    }\n",
       "</style>\n",
       "<table border=\"1\" class=\"dataframe\">\n",
       "  <thead>\n",
       "    <tr style=\"text-align: right;\">\n",
       "      <th></th>\n",
       "      <th>login</th>\n",
       "      <th>full_name</th>\n",
       "      <th>created_at</th>\n",
       "      <th>stargazers_count</th>\n",
       "      <th>watchers_count</th>\n",
       "      <th>language</th>\n",
       "      <th>has_projects</th>\n",
       "      <th>has_wiki</th>\n",
       "      <th>license_name</th>\n",
       "    </tr>\n",
       "  </thead>\n",
       "  <tbody>\n",
       "    <tr>\n",
       "      <th>0</th>\n",
       "      <td>nicknochnack</td>\n",
       "      <td>nicknochnack/ActionDetectionforSignLanguage</td>\n",
       "      <td>2021-06-16T09:12:01Z</td>\n",
       "      <td>408</td>\n",
       "      <td>408</td>\n",
       "      <td>Jupyter Notebook</td>\n",
       "      <td>True</td>\n",
       "      <td>True</td>\n",
       "      <td>NaN</td>\n",
       "    </tr>\n",
       "    <tr>\n",
       "      <th>1</th>\n",
       "      <td>nicknochnack</td>\n",
       "      <td>nicknochnack/AdvancedHandPoseWithMediaPipe</td>\n",
       "      <td>2021-04-25T00:13:57Z</td>\n",
       "      <td>37</td>\n",
       "      <td>37</td>\n",
       "      <td>Jupyter Notebook</td>\n",
       "      <td>True</td>\n",
       "      <td>True</td>\n",
       "      <td>NaN</td>\n",
       "    </tr>\n",
       "    <tr>\n",
       "      <th>2</th>\n",
       "      <td>nicknochnack</td>\n",
       "      <td>nicknochnack/ANPRwithPython</td>\n",
       "      <td>2020-12-13T04:39:49Z</td>\n",
       "      <td>106</td>\n",
       "      <td>106</td>\n",
       "      <td>Jupyter Notebook</td>\n",
       "      <td>True</td>\n",
       "      <td>True</td>\n",
       "      <td>NaN</td>\n",
       "    </tr>\n",
       "    <tr>\n",
       "      <th>3</th>\n",
       "      <td>nicknochnack</td>\n",
       "      <td>nicknochnack/AutoStreamlit</td>\n",
       "      <td>2022-10-25T21:25:41Z</td>\n",
       "      <td>72</td>\n",
       "      <td>72</td>\n",
       "      <td>Jupyter Notebook</td>\n",
       "      <td>True</td>\n",
       "      <td>True</td>\n",
       "      <td>NaN</td>\n",
       "    </tr>\n",
       "    <tr>\n",
       "      <th>4</th>\n",
       "      <td>nicknochnack</td>\n",
       "      <td>nicknochnack/beeagent</td>\n",
       "      <td>2024-09-19T08:05:08Z</td>\n",
       "      <td>8</td>\n",
       "      <td>8</td>\n",
       "      <td>TypeScript</td>\n",
       "      <td>True</td>\n",
       "      <td>True</td>\n",
       "      <td>NaN</td>\n",
       "    </tr>\n",
       "  </tbody>\n",
       "</table>\n",
       "</div>"
      ],
      "text/plain": [
       "          login                                    full_name  \\\n",
       "0  nicknochnack  nicknochnack/ActionDetectionforSignLanguage   \n",
       "1  nicknochnack   nicknochnack/AdvancedHandPoseWithMediaPipe   \n",
       "2  nicknochnack                  nicknochnack/ANPRwithPython   \n",
       "3  nicknochnack                   nicknochnack/AutoStreamlit   \n",
       "4  nicknochnack                        nicknochnack/beeagent   \n",
       "\n",
       "             created_at  stargazers_count  watchers_count          language  \\\n",
       "0  2021-06-16T09:12:01Z               408             408  Jupyter Notebook   \n",
       "1  2021-04-25T00:13:57Z                37              37  Jupyter Notebook   \n",
       "2  2020-12-13T04:39:49Z               106             106  Jupyter Notebook   \n",
       "3  2022-10-25T21:25:41Z                72              72  Jupyter Notebook   \n",
       "4  2024-09-19T08:05:08Z                 8               8        TypeScript   \n",
       "\n",
       "   has_projects  has_wiki license_name  \n",
       "0          True      True          NaN  \n",
       "1          True      True          NaN  \n",
       "2          True      True          NaN  \n",
       "3          True      True          NaN  \n",
       "4          True      True          NaN  "
      ]
     },
     "execution_count": 24,
     "metadata": {},
     "output_type": "execute_result"
    }
   ],
   "source": [
    "repos.head()"
   ]
  },
  {
   "cell_type": "code",
   "execution_count": 18,
   "id": "e680160d-cfa3-42ef-be27-55a772b77171",
   "metadata": {},
   "outputs": [
    {
     "name": "stdout",
     "output_type": "stream",
     "text": [
      "0.31642734173417775\n"
     ]
    }
   ],
   "source": [
    "if repos['has_projects'].dtype == 'object':\n",
    "    repos['has_projects'] = repos['has_projects'].map({'true': True, 'false': False})\n",
    "if repos['has_wiki'].dtype == 'object':\n",
    "    repos['has_wiki'] = repos['has_wiki'].map({'true': True, 'false': False})\n",
    "    \n",
    "correlation = repos['has_projects'].corr(repos['has_wiki'])\n",
    "    \n",
    "print(correlation)"
   ]
  },
  {
   "cell_type": "markdown",
   "id": "7d1c5de4-b714-46e2-af6a-ad41e8a42f8f",
   "metadata": {},
   "source": [
    "#### Q12. Do hireable users follow more people than those who are not hireable?"
   ]
  },
  {
   "cell_type": "code",
   "execution_count": 19,
   "id": "cd51bed6-bba7-4407-94a9-ccc5e3968b4d",
   "metadata": {},
   "outputs": [
    {
     "data": {
      "text/plain": [
       "np.float64(52.6357638301472)"
      ]
     },
     "execution_count": 19,
     "metadata": {},
     "output_type": "execute_result"
    }
   ],
   "source": [
    "hireable_avg_following = users[users['hireable'] == True]['following'].mean()\n",
    "non_hireable_avg_following = users[users['hireable'] == False]['following'].mean()\n",
    "difference = hireable_avg_following - non_hireable_avg_following\n",
    "difference"
   ]
  },
  {
   "cell_type": "markdown",
   "id": "1f30dbcf-90f2-4531-b37c-0386828e1f9f",
   "metadata": {},
   "source": [
    "#### Q13. Some developers write long bios. Does that help them get more followers? What's the correlation of the length of their bio (in Unicode characters) with followers? (Ignore people without bios)"
   ]
  },
  {
   "cell_type": "code",
   "execution_count": 20,
   "id": "a324c8b4-9faf-4f4d-9c3d-0813e6bdbfb8",
   "metadata": {},
   "outputs": [
    {
     "ename": "ValueError",
     "evalue": "numpy.dtype size changed, may indicate binary incompatibility. Expected 96 from C header, got 88 from PyObject",
     "output_type": "error",
     "traceback": [
      "\u001b[1;31m---------------------------------------------------------------------------\u001b[0m",
      "\u001b[1;31mValueError\u001b[0m                                Traceback (most recent call last)",
      "Cell \u001b[1;32mIn[20], line 1\u001b[0m\n\u001b[1;32m----> 1\u001b[0m \u001b[38;5;28;01mfrom\u001b[39;00m \u001b[38;5;21;01msklearn\u001b[39;00m\u001b[38;5;21;01m.\u001b[39;00m\u001b[38;5;21;01mlinear_model\u001b[39;00m \u001b[38;5;28;01mimport\u001b[39;00m LinearRegression\n\u001b[0;32m      2\u001b[0m users_with_bio \u001b[38;5;241m=\u001b[39m users[(users[\u001b[38;5;124m'\u001b[39m\u001b[38;5;124mbio\u001b[39m\u001b[38;5;124m'\u001b[39m]\u001b[38;5;241m.\u001b[39mnotna()) \u001b[38;5;241m&\u001b[39m (users[\u001b[38;5;124m'\u001b[39m\u001b[38;5;124mbio\u001b[39m\u001b[38;5;124m'\u001b[39m] \u001b[38;5;241m!=\u001b[39m \u001b[38;5;124m'\u001b[39m\u001b[38;5;124m'\u001b[39m)]\u001b[38;5;241m.\u001b[39mcopy()\n\u001b[0;32m      3\u001b[0m users_with_bio\u001b[38;5;241m.\u001b[39mloc[:, \u001b[38;5;124m'\u001b[39m\u001b[38;5;124mbio_len\u001b[39m\u001b[38;5;124m'\u001b[39m] \u001b[38;5;241m=\u001b[39m users_with_bio[\u001b[38;5;124m'\u001b[39m\u001b[38;5;124mbio\u001b[39m\u001b[38;5;124m'\u001b[39m]\u001b[38;5;241m.\u001b[39mstr\u001b[38;5;241m.\u001b[39mlen()\n",
      "File \u001b[1;32m~\\AppData\\Local\\Packages\\PythonSoftwareFoundation.Python.3.11_qbz5n2kfra8p0\\LocalCache\\local-packages\\Python311\\site-packages\\sklearn\\__init__.py:82\u001b[0m\n\u001b[0;32m     80\u001b[0m \u001b[38;5;28;01mfrom\u001b[39;00m \u001b[38;5;21;01m.\u001b[39;00m \u001b[38;5;28;01mimport\u001b[39;00m _distributor_init  \u001b[38;5;66;03m# noqa: F401\u001b[39;00m\n\u001b[0;32m     81\u001b[0m \u001b[38;5;28;01mfrom\u001b[39;00m \u001b[38;5;21;01m.\u001b[39;00m \u001b[38;5;28;01mimport\u001b[39;00m __check_build  \u001b[38;5;66;03m# noqa: F401\u001b[39;00m\n\u001b[1;32m---> 82\u001b[0m \u001b[38;5;28;01mfrom\u001b[39;00m \u001b[38;5;21;01m.\u001b[39;00m\u001b[38;5;21;01mbase\u001b[39;00m \u001b[38;5;28;01mimport\u001b[39;00m clone\n\u001b[0;32m     83\u001b[0m \u001b[38;5;28;01mfrom\u001b[39;00m \u001b[38;5;21;01m.\u001b[39;00m\u001b[38;5;21;01mutils\u001b[39;00m\u001b[38;5;21;01m.\u001b[39;00m\u001b[38;5;21;01m_show_versions\u001b[39;00m \u001b[38;5;28;01mimport\u001b[39;00m show_versions\n\u001b[0;32m     85\u001b[0m __all__ \u001b[38;5;241m=\u001b[39m [\n\u001b[0;32m     86\u001b[0m     \u001b[38;5;124m\"\u001b[39m\u001b[38;5;124mcalibration\u001b[39m\u001b[38;5;124m\"\u001b[39m,\n\u001b[0;32m     87\u001b[0m     \u001b[38;5;124m\"\u001b[39m\u001b[38;5;124mcluster\u001b[39m\u001b[38;5;124m\"\u001b[39m,\n\u001b[1;32m   (...)\u001b[0m\n\u001b[0;32m    128\u001b[0m     \u001b[38;5;124m\"\u001b[39m\u001b[38;5;124mshow_versions\u001b[39m\u001b[38;5;124m\"\u001b[39m,\n\u001b[0;32m    129\u001b[0m ]\n",
      "File \u001b[1;32m~\\AppData\\Local\\Packages\\PythonSoftwareFoundation.Python.3.11_qbz5n2kfra8p0\\LocalCache\\local-packages\\Python311\\site-packages\\sklearn\\base.py:17\u001b[0m\n\u001b[0;32m     15\u001b[0m \u001b[38;5;28;01mfrom\u001b[39;00m \u001b[38;5;21;01m.\u001b[39;00m \u001b[38;5;28;01mimport\u001b[39;00m __version__\n\u001b[0;32m     16\u001b[0m \u001b[38;5;28;01mfrom\u001b[39;00m \u001b[38;5;21;01m.\u001b[39;00m\u001b[38;5;21;01m_config\u001b[39;00m \u001b[38;5;28;01mimport\u001b[39;00m get_config\n\u001b[1;32m---> 17\u001b[0m \u001b[38;5;28;01mfrom\u001b[39;00m \u001b[38;5;21;01m.\u001b[39;00m\u001b[38;5;21;01mutils\u001b[39;00m \u001b[38;5;28;01mimport\u001b[39;00m _IS_32BIT\n\u001b[0;32m     18\u001b[0m \u001b[38;5;28;01mfrom\u001b[39;00m \u001b[38;5;21;01m.\u001b[39;00m\u001b[38;5;21;01mutils\u001b[39;00m\u001b[38;5;21;01m.\u001b[39;00m\u001b[38;5;21;01m_set_output\u001b[39;00m \u001b[38;5;28;01mimport\u001b[39;00m _SetOutputMixin\n\u001b[0;32m     19\u001b[0m \u001b[38;5;28;01mfrom\u001b[39;00m \u001b[38;5;21;01m.\u001b[39;00m\u001b[38;5;21;01mutils\u001b[39;00m\u001b[38;5;21;01m.\u001b[39;00m\u001b[38;5;21;01m_tags\u001b[39;00m \u001b[38;5;28;01mimport\u001b[39;00m (\n\u001b[0;32m     20\u001b[0m     _DEFAULT_TAGS,\n\u001b[0;32m     21\u001b[0m )\n",
      "File \u001b[1;32m~\\AppData\\Local\\Packages\\PythonSoftwareFoundation.Python.3.11_qbz5n2kfra8p0\\LocalCache\\local-packages\\Python311\\site-packages\\sklearn\\utils\\__init__.py:19\u001b[0m\n\u001b[0;32m     16\u001b[0m \u001b[38;5;28;01mimport\u001b[39;00m \u001b[38;5;21;01mnumpy\u001b[39;00m \u001b[38;5;28;01mas\u001b[39;00m \u001b[38;5;21;01mnp\u001b[39;00m\n\u001b[0;32m     17\u001b[0m \u001b[38;5;28;01mfrom\u001b[39;00m \u001b[38;5;21;01mscipy\u001b[39;00m\u001b[38;5;21;01m.\u001b[39;00m\u001b[38;5;21;01msparse\u001b[39;00m \u001b[38;5;28;01mimport\u001b[39;00m issparse\n\u001b[1;32m---> 19\u001b[0m \u001b[38;5;28;01mfrom\u001b[39;00m \u001b[38;5;21;01m.\u001b[39;00m\u001b[38;5;21;01mmurmurhash\u001b[39;00m \u001b[38;5;28;01mimport\u001b[39;00m murmurhash3_32\n\u001b[0;32m     20\u001b[0m \u001b[38;5;28;01mfrom\u001b[39;00m \u001b[38;5;21;01m.\u001b[39;00m\u001b[38;5;21;01mclass_weight\u001b[39;00m \u001b[38;5;28;01mimport\u001b[39;00m compute_class_weight, compute_sample_weight\n\u001b[0;32m     21\u001b[0m \u001b[38;5;28;01mfrom\u001b[39;00m \u001b[38;5;21;01m.\u001b[39;00m \u001b[38;5;28;01mimport\u001b[39;00m _joblib\n",
      "File \u001b[1;32msklearn\\utils\\murmurhash.pyx:1\u001b[0m, in \u001b[0;36minit sklearn.utils.murmurhash\u001b[1;34m()\u001b[0m\n",
      "\u001b[1;31mValueError\u001b[0m: numpy.dtype size changed, may indicate binary incompatibility. Expected 96 from C header, got 88 from PyObject"
     ]
    }
   ],
   "source": [
    "from sklearn.linear_model import LinearRegression\n",
    "users_with_bio = users[(users['bio'].notna()) & (users['bio'] != '')].copy()\n",
    "users_with_bio.loc[:, 'bio_len'] = users_with_bio['bio'].str.len()\n",
    "\n",
    "X = users_with_bio['bio_len'].values.reshape(-1,1)\n",
    "y = users_with_bio['followers']\n",
    "\n",
    "lr2 = LinearRegression()\n",
    "lr2.fit(X, y)\n",
    "lr2.coef_[0]"
   ]
  },
  {
   "cell_type": "markdown",
   "id": "96cb22e4-4046-40cf-9be5-06f096b0f0c3",
   "metadata": {},
   "source": [
    "#### Q14. Who created the most repositories on weekends (UTC)? List the top 5 users' login in order, comma-separated"
   ]
  },
  {
   "cell_type": "code",
   "execution_count": 21,
   "id": "ab49dafe-2981-4fe1-b603-0bee0e61e04f",
   "metadata": {},
   "outputs": [
    {
     "name": "stdout",
     "output_type": "stream",
     "text": [
      "jordaneremieff,pinkforest,timgates42,Anyesh,beauwilliams\n"
     ]
    }
   ],
   "source": [
    "import csv\n",
    "from collections import Counter\n",
    "from datetime import datetime\n",
    "\n",
    "weekend_repo_counts = Counter()\n",
    "\n",
    "with open('repositories.csv', 'r', encoding='utf-8') as file:\n",
    "    reader = csv.DictReader(file)\n",
    "    \n",
    "    for row in reader:\n",
    "        created_at = row.get('created_at', '')\n",
    "        if created_at:\n",
    "            created_date = datetime.fromisoformat(created_at[:-1])  \n",
    "            \n",
    "            if created_date.weekday() in [5, 6]:\n",
    "                user_login = row['login']\n",
    "                weekend_repo_counts[user_login] += 1  \n",
    "\n",
    "top_users = weekend_repo_counts.most_common(5)\n",
    "\n",
    "top_logins = [user[0] for user in top_users]\n",
    "\n",
    "print(','.join(top_logins))"
   ]
  },
  {
   "cell_type": "markdown",
   "id": "6d9da60a-2ff0-4421-808e-ab9a74bf02fb",
   "metadata": {},
   "source": [
    "#### Q15. Do people who are hireable share their email addresses more often?"
   ]
  },
  {
   "cell_type": "code",
   "execution_count": 25,
   "id": "b8381831-d1ed-4855-afc2-97ad1c06a1af",
   "metadata": {},
   "outputs": [
    {
     "name": "stdout",
     "output_type": "stream",
     "text": [
      "0.048\n"
     ]
    }
   ],
   "source": [
    "fraction_hierable = users[users['hireable'] == True]['email'].notna().mean()\n",
    "fraction_non_hierable = users[users['hireable'] == False]['email'].notna().mean()\n",
    "diff = fraction_hierable - fraction_non_hierable\n",
    "print(round(diff,3))"
   ]
  },
  {
   "cell_type": "markdown",
   "id": "806a227e-1285-4c5f-bb05-867a3fd5101a",
   "metadata": {},
   "source": [
    "#### Q16. Let's assume that the last word in a user's name is their surname (ignore missing names, trim and split by whitespace.) What's the most common surname? (If there's a tie, list them all, comma-separated, alphabetically)"
   ]
  },
  {
   "cell_type": "code",
   "execution_count": 23,
   "id": "01a24dfb-05cc-4528-b118-558b2307639c",
   "metadata": {},
   "outputs": [
    {
     "name": "stdout",
     "output_type": "stream",
     "text": [
      "Wu,Zhang\n"
     ]
    }
   ],
   "source": [
    "new_users = users[users['name'].notna()].copy()\n",
    "new_users['surname'] = new_users['name'].str.split().str[-1].str.strip()\n",
    "surname_counts = new_users['surname'].value_counts()\n",
    "max_count = surname_counts.max()\n",
    "common_surnames = surname_counts[surname_counts == max_count].index.tolist()\n",
    "common_surnames.sort()\n",
    "print(','.join(common_surnames))"
   ]
  },
  {
   "cell_type": "code",
   "execution_count": 23,
   "id": "2cc25d8c-a405-46d2-ba14-78bf49fabbc6",
   "metadata": {},
   "outputs": [],
   "source": [
    "# users = users.fillna(\"\").astype(str)\n",
    "# repos = repos.fillna(\"\").astype(str)\n",
    "\n",
    "# repos['has_wiki'] = repos['has_wiki'].astype(str).replace({'True': 'true', 'False': 'false'})\n",
    "# repos['has_projects'] = repos['has_projects'].astype(str).replace({'True': 'true', 'False': 'false'})\n",
    "\n",
    "# # users.to_csv('users1.csv', index=False)\n",
    "# repos.to_csv('repos1.csv', index=False)"
   ]
  }
 ],
 "metadata": {
  "kernelspec": {
   "display_name": "Python 3",
   "language": "python",
   "name": "python3"
  },
  "language_info": {
   "codemirror_mode": {
    "name": "ipython",
    "version": 3
   },
   "file_extension": ".py",
   "mimetype": "text/x-python",
   "name": "python",
   "nbconvert_exporter": "python",
   "pygments_lexer": "ipython3",
   "version": "3.11.9"
  }
 },
 "nbformat": 4,
 "nbformat_minor": 5
}
